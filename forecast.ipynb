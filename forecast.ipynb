{
 "cells": [
  {
   "cell_type": "code",
   "execution_count": 470,
   "id": "9220f2b5",
   "metadata": {},
   "outputs": [
    {
     "name": "stdout",
     "output_type": "stream",
     "text": [
      "Requirement already satisfied: pmdarima in c:\\users\\villa\\anaconda3\\lib\\site-packages (1.8.5)\n",
      "Requirement already satisfied: pandas>=0.19 in c:\\users\\villa\\anaconda3\\lib\\site-packages (from pmdarima) (1.2.4)\n",
      "Requirement already satisfied: numpy>=1.19.3 in c:\\users\\villa\\anaconda3\\lib\\site-packages (from pmdarima) (1.20.1)\n",
      "Requirement already satisfied: setuptools!=50.0.0,>=38.6.0 in c:\\users\\villa\\anaconda3\\lib\\site-packages (from pmdarima) (52.0.0.post20210125)\n",
      "Requirement already satisfied: urllib3 in c:\\users\\villa\\anaconda3\\lib\\site-packages (from pmdarima) (1.26.4)\n",
      "Requirement already satisfied: scipy>=1.3.2 in c:\\users\\villa\\anaconda3\\lib\\site-packages (from pmdarima) (1.6.2)\n",
      "Requirement already satisfied: Cython!=0.29.18,>=0.29 in c:\\users\\villa\\anaconda3\\lib\\site-packages (from pmdarima) (0.29.23)\n",
      "Requirement already satisfied: statsmodels!=0.12.0,>=0.11 in c:\\users\\villa\\anaconda3\\lib\\site-packages (from pmdarima) (0.12.2)\n",
      "Requirement already satisfied: scikit-learn>=0.22 in c:\\users\\villa\\anaconda3\\lib\\site-packages (from pmdarima) (0.24.1)\n",
      "Requirement already satisfied: joblib>=0.11 in c:\\users\\villa\\anaconda3\\lib\\site-packages (from pmdarima) (1.0.1)\n",
      "Requirement already satisfied: python-dateutil>=2.7.3 in c:\\users\\villa\\anaconda3\\lib\\site-packages (from pandas>=0.19->pmdarima) (2.8.1)\n",
      "Requirement already satisfied: pytz>=2017.3 in c:\\users\\villa\\anaconda3\\lib\\site-packages (from pandas>=0.19->pmdarima) (2021.1)\n",
      "Requirement already satisfied: six>=1.5 in c:\\users\\villa\\anaconda3\\lib\\site-packages (from python-dateutil>=2.7.3->pandas>=0.19->pmdarima) (1.15.0)\n",
      "Requirement already satisfied: threadpoolctl>=2.0.0 in c:\\users\\villa\\anaconda3\\lib\\site-packages (from scikit-learn>=0.22->pmdarima) (2.1.0)\n",
      "Requirement already satisfied: patsy>=0.5 in c:\\users\\villa\\anaconda3\\lib\\site-packages (from statsmodels!=0.12.0,>=0.11->pmdarima) (0.5.1)\n"
     ]
    }
   ],
   "source": [
    "!pip install pmdarima"
   ]
  },
  {
   "cell_type": "code",
   "execution_count": 471,
   "id": "e9f4dcda",
   "metadata": {},
   "outputs": [],
   "source": [
    "import pandas as pd\n",
    "import numpy as np\n",
    "import math\n",
    "import matplotlib.pyplot as plt\n",
    "import pmdarima as pm\n",
    "from pmdarima.model_selection import train_test_split\n",
    "from statsmodels.tsa.stattools import adfuller\n",
    "from statsmodels.graphics.tsaplots import plot_acf, plot_pacf\n",
    "from pandas.tseries.offsets import DateOffset"
   ]
  },
  {
   "cell_type": "code",
   "execution_count": 472,
   "id": "85fd853f",
   "metadata": {},
   "outputs": [
    {
     "data": {
      "text/html": [
       "<div>\n",
       "<style scoped>\n",
       "    .dataframe tbody tr th:only-of-type {\n",
       "        vertical-align: middle;\n",
       "    }\n",
       "\n",
       "    .dataframe tbody tr th {\n",
       "        vertical-align: top;\n",
       "    }\n",
       "\n",
       "    .dataframe thead th {\n",
       "        text-align: right;\n",
       "    }\n",
       "</style>\n",
       "<table border=\"1\" class=\"dataframe\">\n",
       "  <thead>\n",
       "    <tr style=\"text-align: right;\">\n",
       "      <th></th>\n",
       "      <th>OrderId</th>\n",
       "      <th>RequestTime</th>\n",
       "      <th>DeliveryOption</th>\n",
       "    </tr>\n",
       "  </thead>\n",
       "  <tbody>\n",
       "    <tr>\n",
       "      <th>0</th>\n",
       "      <td>PED_1</td>\n",
       "      <td>2018-01-01 08:03:12</td>\n",
       "      <td>Mismo dia entre 6:30 pm y 8:30 pm</td>\n",
       "    </tr>\n",
       "    <tr>\n",
       "      <th>1</th>\n",
       "      <td>PED_2</td>\n",
       "      <td>2018-01-01 08:28:55</td>\n",
       "      <td>Mismo dia entre 6:30 pm y 8:30 pm</td>\n",
       "    </tr>\n",
       "    <tr>\n",
       "      <th>153273</th>\n",
       "      <td>PED_153274</td>\n",
       "      <td>2021-02-28 17:53:28</td>\n",
       "      <td>Siguiente dia entre las 6:30 pm y 8:30 pm</td>\n",
       "    </tr>\n",
       "    <tr>\n",
       "      <th>153274</th>\n",
       "      <td>PED_153275</td>\n",
       "      <td>2021-02-28 17:53:41</td>\n",
       "      <td>Siguiente dia entre 12:30 pm y 2:30 pm</td>\n",
       "    </tr>\n",
       "  </tbody>\n",
       "</table>\n",
       "</div>"
      ],
      "text/plain": [
       "           OrderId          RequestTime  \\\n",
       "0            PED_1  2018-01-01 08:03:12   \n",
       "1            PED_2  2018-01-01 08:28:55   \n",
       "153273  PED_153274  2021-02-28 17:53:28   \n",
       "153274  PED_153275  2021-02-28 17:53:41   \n",
       "\n",
       "                                   DeliveryOption  \n",
       "0               Mismo dia entre 6:30 pm y 8:30 pm  \n",
       "1               Mismo dia entre 6:30 pm y 8:30 pm  \n",
       "153273  Siguiente dia entre las 6:30 pm y 8:30 pm  \n",
       "153274     Siguiente dia entre 12:30 pm y 2:30 pm  "
      ]
     },
     "execution_count": 472,
     "metadata": {},
     "output_type": "execute_result"
    }
   ],
   "source": [
    "filename = 'Datos_Prueba_DataScientist.csv'\n",
    "\n",
    "df = pd.read_csv(filename)\n",
    "df.head(2).append(df.tail(2))"
   ]
  },
  {
   "cell_type": "code",
   "execution_count": 473,
   "id": "6200f2c5",
   "metadata": {},
   "outputs": [
    {
     "name": "stdout",
     "output_type": "stream",
     "text": [
      "<class 'pandas.core.frame.DataFrame'>\n",
      "RangeIndex: 153275 entries, 0 to 153274\n",
      "Data columns (total 3 columns):\n",
      " #   Column          Non-Null Count   Dtype \n",
      "---  ------          --------------   ----- \n",
      " 0   OrderId         153275 non-null  object\n",
      " 1   RequestTime     153275 non-null  object\n",
      " 2   DeliveryOption  153275 non-null  object\n",
      "dtypes: object(3)\n",
      "memory usage: 3.5+ MB\n"
     ]
    }
   ],
   "source": [
    "df.info()"
   ]
  },
  {
   "cell_type": "markdown",
   "id": "333b2d6b",
   "metadata": {},
   "source": [
    "#### There aren't any null values"
   ]
  },
  {
   "cell_type": "code",
   "execution_count": 474,
   "id": "86a9b3b8",
   "metadata": {},
   "outputs": [],
   "source": [
    "df['OrderId'] = df['OrderId'].str.split(\"_\", expand=True)[1]\n",
    "df['RequestTime'] = pd.to_datetime(df['RequestTime'])\n",
    "df['DeliveryOption'] = df['DeliveryOption'].astype('category')"
   ]
  },
  {
   "cell_type": "code",
   "execution_count": 475,
   "id": "cd996e22",
   "metadata": {},
   "outputs": [
    {
     "data": {
      "text/plain": [
       "CategoricalDtype(categories=['Mismo dia entre 6:30 pm y 8:30 pm',\n",
       "                  'Siguiente dia entre 12:30 pm y 2:30 pm',\n",
       "                  'Siguiente dia entre las 6:30 pm y 8:30 pm'],\n",
       ", ordered=False)"
      ]
     },
     "execution_count": 475,
     "metadata": {},
     "output_type": "execute_result"
    }
   ],
   "source": [
    "df.DeliveryOption.dtypes"
   ]
  },
  {
   "cell_type": "code",
   "execution_count": 476,
   "id": "631f95fa",
   "metadata": {},
   "outputs": [],
   "source": [
    "DeliveryOptions = {'Mismo dia entre 6:30 pm y 8:30 pm': '1',\n",
    "                  'Siguiente dia entre 12:30 pm y 2:30 pm': '2',\n",
    "                  'Siguiente dia entre las 6:30 pm y 8:30 pm': '3'\n",
    "                  }\n",
    "df.DeliveryOption.replace(DeliveryOptions, inplace=True)\n",
    "df.DeliveryOption = df.DeliveryOption.astype('category')"
   ]
  },
  {
   "cell_type": "markdown",
   "id": "5b45e468",
   "metadata": {},
   "source": [
    "Delivery Options:\n",
    "- Option 1. Same day between 6:30PM and 8:30PM\n",
    "- Option 2. Next day between 12:30PM and 2:30PM\n",
    "- Option 3. Next day between 6:30PM and 8:30PM"
   ]
  },
  {
   "cell_type": "code",
   "execution_count": 477,
   "id": "068aa15d",
   "metadata": {},
   "outputs": [
    {
     "name": "stdout",
     "output_type": "stream",
     "text": [
      "Morning Shift: 119814\n",
      "Night Shift: 33461\n",
      "Total: 153275\n"
     ]
    }
   ],
   "source": [
    "hours = df['RequestTime'].dt.hour\n",
    "morning_shift = 0\n",
    "night_shift = 0\n",
    "for i in range(len(df)):\n",
    "    if hours[i] <= 12:\n",
    "        morning_shift += 1\n",
    "    else:\n",
    "        night_shift += 1\n",
    "print('Morning Shift:', morning_shift)\n",
    "print('Night Shift:', night_shift)\n",
    "print('Total:', morning_shift + night_shift)"
   ]
  },
  {
   "cell_type": "code",
   "execution_count": 478,
   "id": "75c203e9",
   "metadata": {},
   "outputs": [
    {
     "data": {
      "text/plain": [
       "Year  Month  Morning Shift?\n",
       "2018  1      False              225\n",
       "             True               601\n",
       "      2      False              192\n",
       "             True               541\n",
       "      3      False              245\n",
       "                               ... \n",
       "2020  12     True              6940\n",
       "2021  1      False             1560\n",
       "             True              6046\n",
       "      2      False             1285\n",
       "             True              4735\n",
       "Name: OrderId, Length: 76, dtype: int64"
      ]
     },
     "execution_count": 478,
     "metadata": {},
     "output_type": "execute_result"
    }
   ],
   "source": [
    "shifts = df.groupby([df['RequestTime'].dt.year, df['RequestTime'].dt.month, df['RequestTime'].dt.hour <= 12])['OrderId'].count()\n",
    "shifts.index.names = ['Year', 'Month', 'Morning Shift?']\n",
    "shifts"
   ]
  },
  {
   "cell_type": "code",
   "execution_count": 479,
   "id": "acf3d91e",
   "metadata": {},
   "outputs": [
    {
     "data": {
      "text/plain": [
       "<AxesSubplot:xlabel='Year,Month,Morning Shift?'>"
      ]
     },
     "execution_count": 479,
     "metadata": {},
     "output_type": "execute_result"
    },
    {
     "data": {
      "image/png": "[encoded data removed]",
      "text/plain": [
       "<Figure size 1080x576 with 1 Axes>"
      ]
     },
     "metadata": {
      "needs_background": "light"
     },
     "output_type": "display_data"
    }
   ],
   "source": [
    "shifts.plot.bar(figsize=(15, 8))"
   ]
  },
  {
   "cell_type": "code",
   "execution_count": 480,
   "id": "9a6a55bc",
   "metadata": {},
   "outputs": [
    {
     "data": {
      "text/plain": [
       "Year  Month\n",
       "2018  1         826\n",
       "      2         733\n",
       "      3         979\n",
       "      4        1121\n",
       "      5        1324\n",
       "      6        1924\n",
       "      7        2227\n",
       "      8        1808\n",
       "      9        1976\n",
       "      10       2162\n",
       "      11       2305\n",
       "      12       4350\n",
       "2019  1        3633\n",
       "      2        2616\n",
       "      3        3157\n",
       "      4        3139\n",
       "      5        3420\n",
       "      6        4703\n",
       "      7        4912\n",
       "      8        4060\n",
       "      9        4047\n",
       "      10       4284\n",
       "      11       4416\n",
       "      12       7629\n",
       "2020  1        6486\n",
       "      2        4804\n",
       "      3        3058\n",
       "      4        3119\n",
       "      5        5329\n",
       "      6        6993\n",
       "      7        7439\n",
       "      8        4975\n",
       "      9        4831\n",
       "      10       6049\n",
       "      11       5975\n",
       "      12       8840\n",
       "2021  1        7606\n",
       "      2        6020\n",
       "Name: Orders, dtype: int64"
      ]
     },
     "execution_count": 480,
     "metadata": {},
     "output_type": "execute_result"
    },
    {
     "data": {
      "image/png": "[encoded data removed]",
      "text/plain": [
       "<Figure size 1080x576 with 1 Axes>"
      ]
     },
     "metadata": {
      "needs_background": "light"
     },
     "output_type": "display_data"
    }
   ],
   "source": [
    "df_model = df.groupby([df['RequestTime'].dt.year, df['RequestTime'].dt.month])['OrderId'].count()\n",
    "df_model.name = 'Orders'\n",
    "df_model.index.names = ['Year', 'Month']\n",
    "df_model.plot(figsize=(15,8), xlabel='Year-Month', ylabel='Orders', title='Number of Orders Over Time')\n",
    "df_model"
   ]
  },
  {
   "cell_type": "code",
   "execution_count": 481,
   "id": "86fd0579",
   "metadata": {},
   "outputs": [
    {
     "data": {
      "text/html": [
       "<div>\n",
       "<style scoped>\n",
       "    .dataframe tbody tr th:only-of-type {\n",
       "        vertical-align: middle;\n",
       "    }\n",
       "\n",
       "    .dataframe tbody tr th {\n",
       "        vertical-align: top;\n",
       "    }\n",
       "\n",
       "    .dataframe thead th {\n",
       "        text-align: right;\n",
       "    }\n",
       "</style>\n",
       "<table border=\"1\" class=\"dataframe\">\n",
       "  <thead>\n",
       "    <tr style=\"text-align: right;\">\n",
       "      <th></th>\n",
       "      <th>Orders</th>\n",
       "    </tr>\n",
       "    <tr>\n",
       "      <th>Date</th>\n",
       "      <th></th>\n",
       "    </tr>\n",
       "  </thead>\n",
       "  <tbody>\n",
       "    <tr>\n",
       "      <th>2018-01-31</th>\n",
       "      <td>826</td>\n",
       "    </tr>\n",
       "    <tr>\n",
       "      <th>2018-02-28</th>\n",
       "      <td>733</td>\n",
       "    </tr>\n",
       "    <tr>\n",
       "      <th>2021-01-31</th>\n",
       "      <td>7606</td>\n",
       "    </tr>\n",
       "    <tr>\n",
       "      <th>2021-02-28</th>\n",
       "      <td>6020</td>\n",
       "    </tr>\n",
       "  </tbody>\n",
       "</table>\n",
       "</div>"
      ],
      "text/plain": [
       "            Orders\n",
       "Date              \n",
       "2018-01-31     826\n",
       "2018-02-28     733\n",
       "2021-01-31    7606\n",
       "2021-02-28    6020"
      ]
     },
     "execution_count": 481,
     "metadata": {},
     "output_type": "execute_result"
    }
   ],
   "source": [
    "dates = pd.date_range(start='2018-01', freq='M', periods=df_model.count())\n",
    "data = {'Date': dates, 'Orders': df_model.values}\n",
    "df = pd.DataFrame(data=data)\n",
    "df.set_index('Date', inplace=True)\n",
    "df.head(2).append(df.tail(2))"
   ]
  },
  {
   "cell_type": "code",
   "execution_count": 482,
   "id": "4dc9661d",
   "metadata": {},
   "outputs": [
    {
     "data": {
      "text/plain": [
       "[<matplotlib.lines.Line2D at 0x20d72e1aca0>]"
      ]
     },
     "execution_count": 482,
     "metadata": {},
     "output_type": "execute_result"
    },
    {
     "data": {
      "image/png": "[encoded data removed]",
      "text/plain": [
       "<Figure size 1080x576 with 1 Axes>"
      ]
     },
     "metadata": {
      "needs_background": "light"
     },
     "output_type": "display_data"
    }
   ],
   "source": [
    "plt.figure(figsize=(15, 8))\n",
    "plt.plot(df['Orders'])"
   ]
  },
  {
   "cell_type": "code",
   "execution_count": 483,
   "id": "4d90a1e5",
   "metadata": {},
   "outputs": [
    {
     "name": "stdout",
     "output_type": "stream",
     "text": [
      "ADF Statistic: -0.8730613813751525\n",
      "p-value: 0.7967142162154752\n"
     ]
    }
   ],
   "source": [
    "print(f'ADF Statistic: {adfuller(df)[0]}')\n",
    "print(f'p-value: {adfuller(df)[1]}')"
   ]
  },
  {
   "cell_type": "code",
   "execution_count": 484,
   "id": "5e161e2d",
   "metadata": {},
   "outputs": [],
   "source": [
    "df_diff = df.diff().dropna()"
   ]
  },
  {
   "cell_type": "code",
   "execution_count": 485,
   "id": "2fec5444",
   "metadata": {},
   "outputs": [
    {
     "name": "stdout",
     "output_type": "stream",
     "text": [
      "ADF Statistic: -3.7750002810956436 after first difference\n",
      "p-value: 0.003173705126307902 after first difference\n"
     ]
    }
   ],
   "source": [
    "print(f'ADF Statistic: {adfuller(df_diff)[0]}', 'after first difference')\n",
    "print(f'p-value: {adfuller(df_diff)[1]}' , 'after first difference')"
   ]
  },
  {
   "cell_type": "code",
   "execution_count": 486,
   "id": "c188be78",
   "metadata": {},
   "outputs": [
    {
     "data": {
      "image/png": "[encoded data removed]",
      "text/plain": [
       "<Figure size 432x288 with 1 Axes>"
      ]
     },
     "metadata": {
      "needs_background": "light"
     },
     "output_type": "display_data"
    }
   ],
   "source": [
    "plot_acf(df_diff, lags=35, zero=False);"
   ]
  },
  {
   "cell_type": "code",
   "execution_count": 487,
   "id": "38ff17ab",
   "metadata": {},
   "outputs": [
    {
     "name": "stdout",
     "output_type": "stream",
     "text": [
      "Performing stepwise search to minimize aic\n",
      " ARIMA(2,1,2)(1,1,1)[6]             : AIC=508.677, Time=0.35 sec\n",
      " ARIMA(0,1,0)(0,1,0)[6]             : AIC=525.333, Time=0.02 sec\n",
      " ARIMA(1,1,0)(1,1,0)[6]             : AIC=510.526, Time=0.10 sec\n",
      " ARIMA(0,1,1)(0,1,1)[6]             : AIC=511.887, Time=0.17 sec\n",
      " ARIMA(2,1,2)(0,1,1)[6]             : AIC=inf, Time=0.35 sec\n",
      " ARIMA(2,1,2)(1,1,0)[6]             : AIC=inf, Time=0.34 sec\n",
      " ARIMA(2,1,2)(2,1,1)[6]             : AIC=510.585, Time=0.84 sec\n",
      " ARIMA(2,1,2)(1,1,2)[6]             : AIC=509.690, Time=0.70 sec\n",
      " ARIMA(2,1,2)(0,1,0)[6]             : AIC=inf, Time=0.11 sec\n",
      " ARIMA(2,1,2)(0,1,2)[6]             : AIC=inf, Time=0.63 sec\n",
      " ARIMA(2,1,2)(2,1,0)[6]             : AIC=inf, Time=0.79 sec\n",
      " ARIMA(2,1,2)(2,1,2)[6]             : AIC=511.300, Time=0.85 sec\n",
      " ARIMA(1,1,2)(1,1,1)[6]             : AIC=507.252, Time=0.33 sec\n",
      " ARIMA(1,1,2)(0,1,1)[6]             : AIC=inf, Time=0.23 sec\n",
      " ARIMA(1,1,2)(1,1,0)[6]             : AIC=505.791, Time=0.17 sec\n",
      " ARIMA(1,1,2)(0,1,0)[6]             : AIC=inf, Time=0.07 sec\n",
      " ARIMA(1,1,2)(2,1,0)[6]             : AIC=inf, Time=0.49 sec\n",
      " ARIMA(1,1,2)(2,1,1)[6]             : AIC=inf, Time=0.66 sec\n",
      " ARIMA(0,1,2)(1,1,0)[6]             : AIC=504.305, Time=0.16 sec\n",
      " ARIMA(0,1,2)(0,1,0)[6]             : AIC=inf, Time=0.09 sec\n",
      " ARIMA(0,1,2)(2,1,0)[6]             : AIC=inf, Time=0.62 sec\n",
      " ARIMA(0,1,2)(1,1,1)[6]             : AIC=506.094, Time=0.48 sec\n",
      " ARIMA(0,1,2)(0,1,1)[6]             : AIC=511.427, Time=0.30 sec\n",
      " ARIMA(0,1,2)(2,1,1)[6]             : AIC=inf, Time=nan sec\n",
      " ARIMA(0,1,1)(1,1,0)[6]             : AIC=507.869, Time=0.15 sec\n",
      " ARIMA(0,1,3)(1,1,0)[6]             : AIC=inf, Time=0.33 sec\n",
      " ARIMA(1,1,1)(1,1,0)[6]             : AIC=506.166, Time=0.17 sec\n",
      " ARIMA(1,1,3)(1,1,0)[6]             : AIC=inf, Time=0.41 sec\n",
      " ARIMA(0,1,2)(1,1,0)[6] intercept   : AIC=inf, Time=0.30 sec\n",
      "\n",
      "Best model:  ARIMA(0,1,2)(1,1,0)[6]          \n",
      "Total fit time: 10.723 seconds\n"
     ]
    }
   ],
   "source": [
    "results = pm.auto_arima(df, seasonal=True, m=6, d=1, D=1, information_criteria='bic', trace=True, error_action='ignore',\n",
    "                       n_fits=100, stepwise=True)"
   ]
  },
  {
   "cell_type": "code",
   "execution_count": 488,
   "id": "772a3a20",
   "metadata": {},
   "outputs": [
    {
     "data": {
      "text/html": [
       "<table class=\"simpletable\">\n",
       "<caption>SARIMAX Results</caption>\n",
       "<tr>\n",
       "  <th>Dep. Variable:</th>                  <td>y</td>               <th>  No. Observations:  </th>    <td>38</td>   \n",
       "</tr>\n",
       "<tr>\n",
       "  <th>Model:</th>           <td>SARIMAX(0, 1, 2)x(1, 1, [], 6)</td> <th>  Log Likelihood     </th> <td>-248.153</td>\n",
       "</tr>\n",
       "<tr>\n",
       "  <th>Date:</th>                   <td>Mon, 02 May 2022</td>        <th>  AIC                </th>  <td>504.305</td>\n",
       "</tr>\n",
       "<tr>\n",
       "  <th>Time:</th>                       <td>22:05:59</td>            <th>  BIC                </th>  <td>510.041</td>\n",
       "</tr>\n",
       "<tr>\n",
       "  <th>Sample:</th>                         <td>0</td>               <th>  HQIC               </th>  <td>506.175</td>\n",
       "</tr>\n",
       "<tr>\n",
       "  <th></th>                              <td> - 38</td>             <th>                     </th>     <td> </td>   \n",
       "</tr>\n",
       "<tr>\n",
       "  <th>Covariance Type:</th>               <td>opg</td>              <th>                     </th>     <td> </td>   \n",
       "</tr>\n",
       "</table>\n",
       "<table class=\"simpletable\">\n",
       "<tr>\n",
       "     <td></td>        <th>coef</th>     <th>std err</th>      <th>z</th>      <th>P>|z|</th>  <th>[0.025</th>    <th>0.975]</th>  \n",
       "</tr>\n",
       "<tr>\n",
       "  <th>ma.L1</th>   <td>   -0.2622</td> <td>    0.236</td> <td>   -1.113</td> <td> 0.266</td> <td>   -0.724</td> <td>    0.200</td>\n",
       "</tr>\n",
       "<tr>\n",
       "  <th>ma.L2</th>   <td>   -0.5229</td> <td>    0.231</td> <td>   -2.266</td> <td> 0.023</td> <td>   -0.975</td> <td>   -0.071</td>\n",
       "</tr>\n",
       "<tr>\n",
       "  <th>ar.S.L6</th> <td>   -0.8580</td> <td>    0.219</td> <td>   -3.916</td> <td> 0.000</td> <td>   -1.287</td> <td>   -0.429</td>\n",
       "</tr>\n",
       "<tr>\n",
       "  <th>sigma2</th>  <td> 4.421e+05</td> <td> 7.79e+04</td> <td>    5.678</td> <td> 0.000</td> <td> 2.89e+05</td> <td> 5.95e+05</td>\n",
       "</tr>\n",
       "</table>\n",
       "<table class=\"simpletable\">\n",
       "<tr>\n",
       "  <th>Ljung-Box (L1) (Q):</th>     <td>0.23</td> <th>  Jarque-Bera (JB):  </th> <td>22.89</td>\n",
       "</tr>\n",
       "<tr>\n",
       "  <th>Prob(Q):</th>                <td>0.63</td> <th>  Prob(JB):          </th> <td>0.00</td> \n",
       "</tr>\n",
       "<tr>\n",
       "  <th>Heteroskedasticity (H):</th> <td>1.28</td> <th>  Skew:              </th> <td>-1.02</td>\n",
       "</tr>\n",
       "<tr>\n",
       "  <th>Prob(H) (two-sided):</th>    <td>0.71</td> <th>  Kurtosis:          </th> <td>6.69</td> \n",
       "</tr>\n",
       "</table><br/><br/>Warnings:<br/>[1] Covariance matrix calculated using the outer product of gradients (complex-step)."
      ],
      "text/plain": [
       "<class 'statsmodels.iolib.summary.Summary'>\n",
       "\"\"\"\n",
       "                                     SARIMAX Results                                      \n",
       "==========================================================================================\n",
       "Dep. Variable:                                  y   No. Observations:                   38\n",
       "Model:             SARIMAX(0, 1, 2)x(1, 1, [], 6)   Log Likelihood                -248.153\n",
       "Date:                            Mon, 02 May 2022   AIC                            504.305\n",
       "Time:                                    22:05:59   BIC                            510.041\n",
       "Sample:                                         0   HQIC                           506.175\n",
       "                                             - 38                                         \n",
       "Covariance Type:                              opg                                         \n",
       "==============================================================================\n",
       "                 coef    std err          z      P>|z|      [0.025      0.975]\n",
       "------------------------------------------------------------------------------\n",
       "ma.L1         -0.2622      0.236     -1.113      0.266      -0.724       0.200\n",
       "ma.L2         -0.5229      0.231     -2.266      0.023      -0.975      -0.071\n",
       "ar.S.L6       -0.8580      0.219     -3.916      0.000      -1.287      -0.429\n",
       "sigma2      4.421e+05   7.79e+04      5.678      0.000    2.89e+05    5.95e+05\n",
       "===================================================================================\n",
       "Ljung-Box (L1) (Q):                   0.23   Jarque-Bera (JB):                22.89\n",
       "Prob(Q):                              0.63   Prob(JB):                         0.00\n",
       "Heteroskedasticity (H):               1.28   Skew:                            -1.02\n",
       "Prob(H) (two-sided):                  0.71   Kurtosis:                         6.69\n",
       "===================================================================================\n",
       "\n",
       "Warnings:\n",
       "[1] Covariance matrix calculated using the outer product of gradients (complex-step).\n",
       "\"\"\""
      ]
     },
     "execution_count": 488,
     "metadata": {},
     "output_type": "execute_result"
    }
   ],
   "source": [
    "results.summary()"
   ]
  },
  {
   "cell_type": "code",
   "execution_count": 489,
   "id": "88be46b1",
   "metadata": {},
   "outputs": [
    {
     "data": {
      "image/png": "[encoded data removed]",
      "text/plain": [
       "<Figure size 432x288 with 4 Axes>"
      ]
     },
     "metadata": {
      "needs_background": "light"
     },
     "output_type": "display_data"
    }
   ],
   "source": [
    "results.plot_diagnostics();"
   ]
  },
  {
   "cell_type": "code",
   "execution_count": 490,
   "id": "c2e8ed00",
   "metadata": {},
   "outputs": [],
   "source": [
    "train, test = train_test_split(df, test_size=0.25)"
   ]
  },
  {
   "cell_type": "code",
   "execution_count": 491,
   "id": "d32c7442",
   "metadata": {},
   "outputs": [
    {
     "data": {
      "text/plain": [
       "(10, 1)"
      ]
     },
     "execution_count": 491,
     "metadata": {},
     "output_type": "execute_result"
    }
   ],
   "source": [
    "test.shape"
   ]
  },
  {
   "cell_type": "code",
   "execution_count": 492,
   "id": "0d3e9e8d",
   "metadata": {},
   "outputs": [
    {
     "name": "stderr",
     "output_type": "stream",
     "text": [
      "<ipython-input-492-9b61e067aea5>:3: SettingWithCopyWarning: \n",
      "A value is trying to be set on a copy of a slice from a DataFrame.\n",
      "Try using .loc[row_indexer,col_indexer] = value instead\n",
      "\n",
      "See the caveats in the documentation: https://pandas.pydata.org/pandas-docs/stable/user_guide/indexing.html#returning-a-view-versus-a-copy\n",
      "  test['Predicted_Orders'] = prediction\n"
     ]
    }
   ],
   "source": [
    "prediction = pd.DataFrame(results.predict(n_periods=test.shape[0]), test.index)\n",
    "prediction.columns = ['Predicted_Orders']\n",
    "test['Predicted_Orders'] = prediction"
   ]
  },
  {
   "cell_type": "code",
   "execution_count": 493,
   "id": "2766b18e",
   "metadata": {},
   "outputs": [
    {
     "data": {
      "text/html": [
       "<div>\n",
       "<style scoped>\n",
       "    .dataframe tbody tr th:only-of-type {\n",
       "        vertical-align: middle;\n",
       "    }\n",
       "\n",
       "    .dataframe tbody tr th {\n",
       "        vertical-align: top;\n",
       "    }\n",
       "\n",
       "    .dataframe thead th {\n",
       "        text-align: right;\n",
       "    }\n",
       "</style>\n",
       "<table border=\"1\" class=\"dataframe\">\n",
       "  <thead>\n",
       "    <tr style=\"text-align: right;\">\n",
       "      <th></th>\n",
       "      <th>Orders</th>\n",
       "      <th>Predicted_Orders</th>\n",
       "    </tr>\n",
       "    <tr>\n",
       "      <th>Date</th>\n",
       "      <th></th>\n",
       "      <th></th>\n",
       "    </tr>\n",
       "  </thead>\n",
       "  <tbody>\n",
       "    <tr>\n",
       "      <th>2020-05-31</th>\n",
       "      <td>5329</td>\n",
       "      <td>4763.807093</td>\n",
       "    </tr>\n",
       "    <tr>\n",
       "      <th>2020-06-30</th>\n",
       "      <td>6993</td>\n",
       "      <td>4968.236760</td>\n",
       "    </tr>\n",
       "    <tr>\n",
       "      <th>2020-07-31</th>\n",
       "      <td>7439</td>\n",
       "      <td>6853.874385</td>\n",
       "    </tr>\n",
       "    <tr>\n",
       "      <th>2020-08-31</th>\n",
       "      <td>4975</td>\n",
       "      <td>8688.434460</td>\n",
       "    </tr>\n",
       "    <tr>\n",
       "      <th>2020-09-30</th>\n",
       "      <td>4831</td>\n",
       "      <td>8895.849176</td>\n",
       "    </tr>\n",
       "    <tr>\n",
       "      <th>2020-10-31</th>\n",
       "      <td>6049</td>\n",
       "      <td>6556.538390</td>\n",
       "    </tr>\n",
       "    <tr>\n",
       "      <th>2020-11-30</th>\n",
       "      <td>5975</td>\n",
       "      <td>6254.590258</td>\n",
       "    </tr>\n",
       "    <tr>\n",
       "      <th>2020-12-31</th>\n",
       "      <td>8840</td>\n",
       "      <td>7328.648017</td>\n",
       "    </tr>\n",
       "    <tr>\n",
       "      <th>2021-01-31</th>\n",
       "      <td>7606</td>\n",
       "      <td>7532.946053</td>\n",
       "    </tr>\n",
       "    <tr>\n",
       "      <th>2021-02-28</th>\n",
       "      <td>6020</td>\n",
       "      <td>10251.608075</td>\n",
       "    </tr>\n",
       "  </tbody>\n",
       "</table>\n",
       "</div>"
      ],
      "text/plain": [
       "            Orders  Predicted_Orders\n",
       "Date                                \n",
       "2020-05-31    5329       4763.807093\n",
       "2020-06-30    6993       4968.236760\n",
       "2020-07-31    7439       6853.874385\n",
       "2020-08-31    4975       8688.434460\n",
       "2020-09-30    4831       8895.849176\n",
       "2020-10-31    6049       6556.538390\n",
       "2020-11-30    5975       6254.590258\n",
       "2020-12-31    8840       7328.648017\n",
       "2021-01-31    7606       7532.946053\n",
       "2021-02-28    6020      10251.608075"
      ]
     },
     "execution_count": 493,
     "metadata": {},
     "output_type": "execute_result"
    }
   ],
   "source": [
    "test"
   ]
  },
  {
   "cell_type": "code",
   "execution_count": 494,
   "id": "6a54bdb6",
   "metadata": {},
   "outputs": [
    {
     "data": {
      "text/plain": [
       "<matplotlib.legend.Legend at 0x20d74506160>"
      ]
     },
     "execution_count": 494,
     "metadata": {},
     "output_type": "execute_result"
    },
    {
     "data": {
      "image/png": "[encoded data removed]",
      "text/plain": [
       "<Figure size 1080x576 with 1 Axes>"
      ]
     },
     "metadata": {
      "needs_background": "light"
     },
     "output_type": "display_data"
    }
   ],
   "source": [
    "plt.figure(figsize=(15, 8),)\n",
    "plt.plot(df, label='Original')\n",
    "plt.plot(train, label='Training')\n",
    "plt.plot(test, label='Testing')\n",
    "plt.plot(prediction, label='Prediction')\n",
    "plt.legend()"
   ]
  },
  {
   "cell_type": "code",
   "execution_count": 495,
   "id": "a4ece0ea",
   "metadata": {},
   "outputs": [
    {
     "data": {
      "text/plain": [
       "(38, 1)"
      ]
     },
     "execution_count": 495,
     "metadata": {},
     "output_type": "execute_result"
    }
   ],
   "source": [
    "df.shape"
   ]
  },
  {
   "cell_type": "code",
   "execution_count": 496,
   "id": "09e3d7c1",
   "metadata": {},
   "outputs": [
    {
     "data": {
      "text/plain": [
       "DatetimeIndex(['2021-03-31', '2021-04-30', '2021-05-31', '2021-06-30',\n",
       "               '2021-07-31', '2021-08-31', '2021-09-30', '2021-10-31',\n",
       "               '2021-11-30', '2021-12-31'],\n",
       "              dtype='datetime64[ns]', freq='M')"
      ]
     },
     "execution_count": 496,
     "metadata": {},
     "output_type": "execute_result"
    }
   ],
   "source": [
    "future_dates = pd.date_range(start='2021-03', freq='M', periods=10)\n",
    "future_dates"
   ]
  },
  {
   "cell_type": "code",
   "execution_count": 497,
   "id": "46a44de7",
   "metadata": {},
   "outputs": [
    {
     "data": {
      "text/html": [
       "<div>\n",
       "<style scoped>\n",
       "    .dataframe tbody tr th:only-of-type {\n",
       "        vertical-align: middle;\n",
       "    }\n",
       "\n",
       "    .dataframe tbody tr th {\n",
       "        vertical-align: top;\n",
       "    }\n",
       "\n",
       "    .dataframe thead th {\n",
       "        text-align: right;\n",
       "    }\n",
       "</style>\n",
       "<table border=\"1\" class=\"dataframe\">\n",
       "  <thead>\n",
       "    <tr style=\"text-align: right;\">\n",
       "      <th></th>\n",
       "      <th>Orders</th>\n",
       "    </tr>\n",
       "  </thead>\n",
       "  <tbody>\n",
       "    <tr>\n",
       "      <th>2021-03-31</th>\n",
       "      <td>NaN</td>\n",
       "    </tr>\n",
       "    <tr>\n",
       "      <th>2021-04-30</th>\n",
       "      <td>NaN</td>\n",
       "    </tr>\n",
       "    <tr>\n",
       "      <th>2021-05-31</th>\n",
       "      <td>NaN</td>\n",
       "    </tr>\n",
       "    <tr>\n",
       "      <th>2021-06-30</th>\n",
       "      <td>NaN</td>\n",
       "    </tr>\n",
       "    <tr>\n",
       "      <th>2021-07-31</th>\n",
       "      <td>NaN</td>\n",
       "    </tr>\n",
       "    <tr>\n",
       "      <th>2021-08-31</th>\n",
       "      <td>NaN</td>\n",
       "    </tr>\n",
       "    <tr>\n",
       "      <th>2021-09-30</th>\n",
       "      <td>NaN</td>\n",
       "    </tr>\n",
       "    <tr>\n",
       "      <th>2021-10-31</th>\n",
       "      <td>NaN</td>\n",
       "    </tr>\n",
       "    <tr>\n",
       "      <th>2021-11-30</th>\n",
       "      <td>NaN</td>\n",
       "    </tr>\n",
       "    <tr>\n",
       "      <th>2021-12-31</th>\n",
       "      <td>NaN</td>\n",
       "    </tr>\n",
       "  </tbody>\n",
       "</table>\n",
       "</div>"
      ],
      "text/plain": [
       "           Orders\n",
       "2021-03-31    NaN\n",
       "2021-04-30    NaN\n",
       "2021-05-31    NaN\n",
       "2021-06-30    NaN\n",
       "2021-07-31    NaN\n",
       "2021-08-31    NaN\n",
       "2021-09-30    NaN\n",
       "2021-10-31    NaN\n",
       "2021-11-30    NaN\n",
       "2021-12-31    NaN"
      ]
     },
     "execution_count": 497,
     "metadata": {},
     "output_type": "execute_result"
    }
   ],
   "source": [
    "future_dates_df = pd.DataFrame(index=future_dates[:], columns=df.columns)\n",
    "future_dates_df"
   ]
  },
  {
   "cell_type": "code",
   "execution_count": 498,
   "id": "150a8d45",
   "metadata": {},
   "outputs": [
    {
     "data": {
      "text/html": [
       "<div>\n",
       "<style scoped>\n",
       "    .dataframe tbody tr th:only-of-type {\n",
       "        vertical-align: middle;\n",
       "    }\n",
       "\n",
       "    .dataframe tbody tr th {\n",
       "        vertical-align: top;\n",
       "    }\n",
       "\n",
       "    .dataframe thead th {\n",
       "        text-align: right;\n",
       "    }\n",
       "</style>\n",
       "<table border=\"1\" class=\"dataframe\">\n",
       "  <thead>\n",
       "    <tr style=\"text-align: right;\">\n",
       "      <th></th>\n",
       "      <th>Orders</th>\n",
       "    </tr>\n",
       "  </thead>\n",
       "  <tbody>\n",
       "    <tr>\n",
       "      <th>2021-03-31</th>\n",
       "      <td>NaN</td>\n",
       "    </tr>\n",
       "    <tr>\n",
       "      <th>2021-04-30</th>\n",
       "      <td>NaN</td>\n",
       "    </tr>\n",
       "    <tr>\n",
       "      <th>2021-05-31</th>\n",
       "      <td>NaN</td>\n",
       "    </tr>\n",
       "    <tr>\n",
       "      <th>2021-06-30</th>\n",
       "      <td>NaN</td>\n",
       "    </tr>\n",
       "    <tr>\n",
       "      <th>2021-07-31</th>\n",
       "      <td>NaN</td>\n",
       "    </tr>\n",
       "    <tr>\n",
       "      <th>2021-08-31</th>\n",
       "      <td>NaN</td>\n",
       "    </tr>\n",
       "    <tr>\n",
       "      <th>2021-09-30</th>\n",
       "      <td>NaN</td>\n",
       "    </tr>\n",
       "    <tr>\n",
       "      <th>2021-10-31</th>\n",
       "      <td>NaN</td>\n",
       "    </tr>\n",
       "    <tr>\n",
       "      <th>2021-11-30</th>\n",
       "      <td>NaN</td>\n",
       "    </tr>\n",
       "    <tr>\n",
       "      <th>2021-12-31</th>\n",
       "      <td>NaN</td>\n",
       "    </tr>\n",
       "  </tbody>\n",
       "</table>\n",
       "</div>"
      ],
      "text/plain": [
       "           Orders\n",
       "2021-03-31    NaN\n",
       "2021-04-30    NaN\n",
       "2021-05-31    NaN\n",
       "2021-06-30    NaN\n",
       "2021-07-31    NaN\n",
       "2021-08-31    NaN\n",
       "2021-09-30    NaN\n",
       "2021-10-31    NaN\n",
       "2021-11-30    NaN\n",
       "2021-12-31    NaN"
      ]
     },
     "execution_count": 498,
     "metadata": {},
     "output_type": "execute_result"
    }
   ],
   "source": [
    "future_dates_df.tail(10)"
   ]
  },
  {
   "cell_type": "code",
   "execution_count": 499,
   "id": "81b0bcb4",
   "metadata": {},
   "outputs": [
    {
     "data": {
      "text/plain": [
       "(10, 1)"
      ]
     },
     "execution_count": 499,
     "metadata": {},
     "output_type": "execute_result"
    }
   ],
   "source": [
    "future_dates_df.shape"
   ]
  },
  {
   "cell_type": "code",
   "execution_count": 500,
   "id": "8ca5699f",
   "metadata": {},
   "outputs": [],
   "source": [
    "future_dates_df['Forecast Orders'] = results.predict(n_periods=future_dates_df.shape[0], dynamic=True)"
   ]
  },
  {
   "cell_type": "code",
   "execution_count": 501,
   "id": "59deeba0",
   "metadata": {},
   "outputs": [],
   "source": [
    "future_df = pd.concat([df, future_dates_df])"
   ]
  },
  {
   "cell_type": "code",
   "execution_count": 502,
   "id": "00093ebd",
   "metadata": {},
   "outputs": [
    {
     "data": {
      "text/plain": [
       "[<matplotlib.lines.Line2D at 0x20d0f71b670>,\n",
       " <matplotlib.lines.Line2D at 0x20d73062eb0>]"
      ]
     },
     "execution_count": 502,
     "metadata": {},
     "output_type": "execute_result"
    },
    {
     "data": {
      "image/png": "[encoded data removed]",
      "text/plain": [
       "<Figure size 1080x576 with 1 Axes>"
      ]
     },
     "metadata": {
      "needs_background": "light"
     },
     "output_type": "display_data"
    }
   ],
   "source": [
    "plt.figure(figsize=(15, 8))\n",
    "plt.plot(future_df)"
   ]
  },
  {
   "cell_type": "code",
   "execution_count": 503,
   "id": "16d62ff5",
   "metadata": {},
   "outputs": [
    {
     "data": {
      "text/html": [
       "<div>\n",
       "<style scoped>\n",
       "    .dataframe tbody tr th:only-of-type {\n",
       "        vertical-align: middle;\n",
       "    }\n",
       "\n",
       "    .dataframe tbody tr th {\n",
       "        vertical-align: top;\n",
       "    }\n",
       "\n",
       "    .dataframe thead th {\n",
       "        text-align: right;\n",
       "    }\n",
       "</style>\n",
       "<table border=\"1\" class=\"dataframe\">\n",
       "  <thead>\n",
       "    <tr style=\"text-align: right;\">\n",
       "      <th></th>\n",
       "      <th>Orders</th>\n",
       "      <th>Forecast Orders</th>\n",
       "    </tr>\n",
       "  </thead>\n",
       "  <tbody>\n",
       "    <tr>\n",
       "      <th>2021-03-31</th>\n",
       "      <td>NaN</td>\n",
       "      <td>4763.807093</td>\n",
       "    </tr>\n",
       "    <tr>\n",
       "      <th>2021-04-30</th>\n",
       "      <td>NaN</td>\n",
       "      <td>4968.236760</td>\n",
       "    </tr>\n",
       "    <tr>\n",
       "      <th>2021-05-31</th>\n",
       "      <td>NaN</td>\n",
       "      <td>6853.874385</td>\n",
       "    </tr>\n",
       "    <tr>\n",
       "      <th>2021-06-30</th>\n",
       "      <td>NaN</td>\n",
       "      <td>8688.434460</td>\n",
       "    </tr>\n",
       "    <tr>\n",
       "      <th>2021-07-31</th>\n",
       "      <td>NaN</td>\n",
       "      <td>8895.849176</td>\n",
       "    </tr>\n",
       "    <tr>\n",
       "      <th>2021-08-31</th>\n",
       "      <td>NaN</td>\n",
       "      <td>6556.538390</td>\n",
       "    </tr>\n",
       "    <tr>\n",
       "      <th>2021-09-30</th>\n",
       "      <td>NaN</td>\n",
       "      <td>6254.590258</td>\n",
       "    </tr>\n",
       "    <tr>\n",
       "      <th>2021-10-31</th>\n",
       "      <td>NaN</td>\n",
       "      <td>7328.648017</td>\n",
       "    </tr>\n",
       "    <tr>\n",
       "      <th>2021-11-30</th>\n",
       "      <td>NaN</td>\n",
       "      <td>7532.946053</td>\n",
       "    </tr>\n",
       "    <tr>\n",
       "      <th>2021-12-31</th>\n",
       "      <td>NaN</td>\n",
       "      <td>10251.608075</td>\n",
       "    </tr>\n",
       "  </tbody>\n",
       "</table>\n",
       "</div>"
      ],
      "text/plain": [
       "           Orders  Forecast Orders\n",
       "2021-03-31    NaN      4763.807093\n",
       "2021-04-30    NaN      4968.236760\n",
       "2021-05-31    NaN      6853.874385\n",
       "2021-06-30    NaN      8688.434460\n",
       "2021-07-31    NaN      8895.849176\n",
       "2021-08-31    NaN      6556.538390\n",
       "2021-09-30    NaN      6254.590258\n",
       "2021-10-31    NaN      7328.648017\n",
       "2021-11-30    NaN      7532.946053\n",
       "2021-12-31    NaN     10251.608075"
      ]
     },
     "execution_count": 503,
     "metadata": {},
     "output_type": "execute_result"
    }
   ],
   "source": [
    "future_df.tail(10)"
   ]
  },
  {
   "cell_type": "code",
   "execution_count": 504,
   "id": "b1ecba2b",
   "metadata": {},
   "outputs": [
    {
     "name": "stdout",
     "output_type": "stream",
     "text": [
      "Expected Orders in March 2021 (next month): 4764\n"
     ]
    }
   ],
   "source": [
    "orders_march2021 = math.ceil(future_df['Forecast Orders'][-10].sum())\n",
    "print(f'Expected Orders in March 2021 (next month): {orders_march2021}')"
   ]
  },
  {
   "cell_type": "code",
   "execution_count": 505,
   "id": "e7118eb4",
   "metadata": {},
   "outputs": [],
   "source": [
    "orders_march2021_day = math.ceil(orders_march2021/31)"
   ]
  },
  {
   "cell_type": "code",
   "execution_count": 506,
   "id": "88c03df9",
   "metadata": {},
   "outputs": [
    {
     "data": {
      "text/plain": [
       "0.7816930353938999"
      ]
     },
     "execution_count": 506,
     "metadata": {},
     "output_type": "execute_result"
    }
   ],
   "source": [
    "proportion_morning = morning_shift/(morning_shift+night_shift)\n",
    "proportion_morning"
   ]
  },
  {
   "cell_type": "code",
   "execution_count": 507,
   "id": "edafd0e0",
   "metadata": {},
   "outputs": [
    {
     "name": "stdout",
     "output_type": "stream",
     "text": [
      "In March 2021, we will have atleast 154 orders per day. ABC wants to hire at least 25 employees in the morning and 7 at night\n"
     ]
    }
   ],
   "source": [
    "print(f'In March 2021, we will have atleast {orders_march2021_day} orders per day. ABC wants to hire at least {math.ceil((orders_march2021_day/5)*proportion_morning)} employees in the morning and {math.ceil((orders_march2021_day/5)*(1-proportion_morning))} at night')"
   ]
  },
  {
   "cell_type": "markdown",
   "id": "a723055c",
   "metadata": {},
   "source": [
    "### The Data Science Team at \"This Company\" decided to take the proportion of orders taken every month in the morning and at night and the minimum ratio of 5 orders per employee to make the final suggestion.\n",
    "\n",
    "### In March 2021, we will have atleast 154 orders per day. ABC wants to hire at least 25 employees in the morning and 7 at night.\n",
    "\n",
    "### We also expect at least 4764 orders in March 2021."
   ]
  },
  {
   "cell_type": "code",
   "execution_count": null,
   "id": "b29c652a",
   "metadata": {},
   "outputs": [],
   "source": []
  }
 ],
 "metadata": {
  "kernelspec": {
   "display_name": "Python 3",
   "language": "python",
   "name": "python3"
  },
  "language_info": {
   "codemirror_mode": {
    "name": "ipython",
    "version": 3
   },
   "file_extension": ".py",
   "mimetype": "text/x-python",
   "name": "python",
   "nbconvert_exporter": "python",
   "pygments_lexer": "ipython3",
   "version": "3.8.8"
  }
 },
 "nbformat": 4,
 "nbformat_minor": 5
}
